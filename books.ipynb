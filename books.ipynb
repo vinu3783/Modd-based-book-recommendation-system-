{
 "cells": [
  {
   "cell_type": "code",
   "execution_count": 3,
   "id": "766ea57b-5404-446b-99b7-db6b8a1ce2cd",
   "metadata": {},
   "outputs": [],
   "source": [
    "import numpy as np\n",
    "import pandas as pd"
   ]
  },
  {
   "cell_type": "code",
   "execution_count": 4,
   "id": "ccf1c32a-4cca-441c-bf1d-41a49b12c422",
   "metadata": {},
   "outputs": [],
   "source": [
    "books = pd.read_csv('books_1.Best_Books_Ever.csv')"
   ]
  },
  {
   "cell_type": "code",
   "execution_count": 5,
   "id": "b0eea675-c3df-4cd1-aa2f-86fb30080145",
   "metadata": {},
   "outputs": [
    {
     "data": {
      "text/html": [
       "<div>\n",
       "<style scoped>\n",
       "    .dataframe tbody tr th:only-of-type {\n",
       "        vertical-align: middle;\n",
       "    }\n",
       "\n",
       "    .dataframe tbody tr th {\n",
       "        vertical-align: top;\n",
       "    }\n",
       "\n",
       "    .dataframe thead th {\n",
       "        text-align: right;\n",
       "    }\n",
       "</style>\n",
       "<table border=\"1\" class=\"dataframe\">\n",
       "  <thead>\n",
       "    <tr style=\"text-align: right;\">\n",
       "      <th></th>\n",
       "      <th>bookId</th>\n",
       "      <th>title</th>\n",
       "      <th>series</th>\n",
       "      <th>author</th>\n",
       "      <th>rating</th>\n",
       "      <th>description</th>\n",
       "      <th>language</th>\n",
       "      <th>isbn</th>\n",
       "      <th>genres</th>\n",
       "      <th>characters</th>\n",
       "      <th>...</th>\n",
       "      <th>firstPublishDate</th>\n",
       "      <th>awards</th>\n",
       "      <th>numRatings</th>\n",
       "      <th>ratingsByStars</th>\n",
       "      <th>likedPercent</th>\n",
       "      <th>setting</th>\n",
       "      <th>coverImg</th>\n",
       "      <th>bbeScore</th>\n",
       "      <th>bbeVotes</th>\n",
       "      <th>price</th>\n",
       "    </tr>\n",
       "  </thead>\n",
       "  <tbody>\n",
       "    <tr>\n",
       "      <th>0</th>\n",
       "      <td>2767052-the-hunger-games</td>\n",
       "      <td>The Hunger Games</td>\n",
       "      <td>The Hunger Games #1</td>\n",
       "      <td>Suzanne Collins</td>\n",
       "      <td>4.33</td>\n",
       "      <td>WINNING MEANS FAME AND FORTUNE.LOSING MEANS CE...</td>\n",
       "      <td>English</td>\n",
       "      <td>9780439023481</td>\n",
       "      <td>['Young Adult', 'Fiction', 'Dystopia', 'Fantas...</td>\n",
       "      <td>['Katniss Everdeen', 'Peeta Mellark', 'Cato (H...</td>\n",
       "      <td>...</td>\n",
       "      <td>NaN</td>\n",
       "      <td>['Locus Award Nominee for Best Young Adult Boo...</td>\n",
       "      <td>6376780</td>\n",
       "      <td>['3444695', '1921313', '745221', '171994', '93...</td>\n",
       "      <td>96.0</td>\n",
       "      <td>['District 12, Panem', 'Capitol, Panem', 'Pane...</td>\n",
       "      <td>https://i.gr-assets.com/images/S/compressed.ph...</td>\n",
       "      <td>2993816</td>\n",
       "      <td>30516</td>\n",
       "      <td>5.09</td>\n",
       "    </tr>\n",
       "  </tbody>\n",
       "</table>\n",
       "<p>1 rows × 25 columns</p>\n",
       "</div>"
      ],
      "text/plain": [
       "                     bookId             title               series  \\\n",
       "0  2767052-the-hunger-games  The Hunger Games  The Hunger Games #1   \n",
       "\n",
       "            author  rating                                        description  \\\n",
       "0  Suzanne Collins    4.33  WINNING MEANS FAME AND FORTUNE.LOSING MEANS CE...   \n",
       "\n",
       "  language           isbn                                             genres  \\\n",
       "0  English  9780439023481  ['Young Adult', 'Fiction', 'Dystopia', 'Fantas...   \n",
       "\n",
       "                                          characters  ... firstPublishDate  \\\n",
       "0  ['Katniss Everdeen', 'Peeta Mellark', 'Cato (H...  ...              NaN   \n",
       "\n",
       "                                              awards numRatings  \\\n",
       "0  ['Locus Award Nominee for Best Young Adult Boo...    6376780   \n",
       "\n",
       "                                      ratingsByStars likedPercent  \\\n",
       "0  ['3444695', '1921313', '745221', '171994', '93...         96.0   \n",
       "\n",
       "                                             setting  \\\n",
       "0  ['District 12, Panem', 'Capitol, Panem', 'Pane...   \n",
       "\n",
       "                                            coverImg  bbeScore bbeVotes  price  \n",
       "0  https://i.gr-assets.com/images/S/compressed.ph...   2993816    30516   5.09  \n",
       "\n",
       "[1 rows x 25 columns]"
      ]
     },
     "execution_count": 5,
     "metadata": {},
     "output_type": "execute_result"
    }
   ],
   "source": [
    "books.head(1)"
   ]
  },
  {
   "cell_type": "code",
   "execution_count": 6,
   "id": "edf7e936-3fcf-484f-bb97-fe995eaad52f",
   "metadata": {},
   "outputs": [],
   "source": [
    "books= books[['bookId','title','series','author','rating','description','genres',]]"
   ]
  },
  {
   "cell_type": "code",
   "execution_count": 7,
   "id": "69f2646c-3d12-4dbc-8837-b6724917434d",
   "metadata": {},
   "outputs": [
    {
     "name": "stdout",
     "output_type": "stream",
     "text": [
      "<class 'pandas.core.frame.DataFrame'>\n",
      "RangeIndex: 52478 entries, 0 to 52477\n",
      "Data columns (total 7 columns):\n",
      " #   Column       Non-Null Count  Dtype  \n",
      "---  ------       --------------  -----  \n",
      " 0   bookId       52478 non-null  object \n",
      " 1   title        52478 non-null  object \n",
      " 2   series       23470 non-null  object \n",
      " 3   author       52478 non-null  object \n",
      " 4   rating       52478 non-null  float64\n",
      " 5   description  51140 non-null  object \n",
      " 6   genres       52478 non-null  object \n",
      "dtypes: float64(1), object(6)\n",
      "memory usage: 2.8+ MB\n"
     ]
    }
   ],
   "source": [
    "books.info()"
   ]
  },
  {
   "cell_type": "code",
   "execution_count": 8,
   "id": "a6ee9842-ca2c-4299-b5fb-1cca34d31609",
   "metadata": {},
   "outputs": [
    {
     "data": {
      "text/plain": [
       "bookId             0\n",
       "title              0\n",
       "series         29008\n",
       "author             0\n",
       "rating             0\n",
       "description     1338\n",
       "genres             0\n",
       "dtype: int64"
      ]
     },
     "execution_count": 8,
     "metadata": {},
     "output_type": "execute_result"
    }
   ],
   "source": [
    "books.isnull().sum()"
   ]
  },
  {
   "cell_type": "code",
   "execution_count": 9,
   "id": "64fdafa6-7b90-41eb-bba2-6b1f937c051b",
   "metadata": {},
   "outputs": [],
   "source": [
    "books.dropna(inplace=True)"
   ]
  },
  {
   "cell_type": "code",
   "execution_count": 10,
   "id": "4fd8020e-33bf-4eee-b85a-06517a6a4462",
   "metadata": {},
   "outputs": [
    {
     "data": {
      "text/plain": [
       "bookId         0\n",
       "title          0\n",
       "series         0\n",
       "author         0\n",
       "rating         0\n",
       "description    0\n",
       "genres         0\n",
       "dtype: int64"
      ]
     },
     "execution_count": 10,
     "metadata": {},
     "output_type": "execute_result"
    }
   ],
   "source": [
    "books.isnull().sum()"
   ]
  },
  {
   "cell_type": "code",
   "execution_count": 11,
   "id": "fe53f088-55b9-41d9-ac8b-73952f1e7c0d",
   "metadata": {},
   "outputs": [
    {
     "data": {
      "text/plain": [
       "\"['Young Adult', 'Fiction', 'Dystopia', 'Fantasy', 'Science Fiction', 'Romance', 'Adventure', 'Teen', 'Post Apocalyptic', 'Action']\""
      ]
     },
     "execution_count": 11,
     "metadata": {},
     "output_type": "execute_result"
    }
   ],
   "source": [
    "books.iloc[0].genres"
   ]
  },
  {
   "cell_type": "code",
   "execution_count": 12,
   "id": "206eeaaf-c58c-45f4-b134-6bbd709acb2b",
   "metadata": {},
   "outputs": [],
   "source": [
    "books['tags'] =  books['description'] + books['author'] + books['series'] + books['rating'].fillna('').astype(str)"
   ]
  },
  {
   "cell_type": "code",
   "execution_count": 13,
   "id": "e909b8d4-93f4-4592-99e8-ac4254231fc6",
   "metadata": {},
   "outputs": [
    {
     "data": {
      "text/html": [
       "<div>\n",
       "<style scoped>\n",
       "    .dataframe tbody tr th:only-of-type {\n",
       "        vertical-align: middle;\n",
       "    }\n",
       "\n",
       "    .dataframe tbody tr th {\n",
       "        vertical-align: top;\n",
       "    }\n",
       "\n",
       "    .dataframe thead th {\n",
       "        text-align: right;\n",
       "    }\n",
       "</style>\n",
       "<table border=\"1\" class=\"dataframe\">\n",
       "  <thead>\n",
       "    <tr style=\"text-align: right;\">\n",
       "      <th></th>\n",
       "      <th>bookId</th>\n",
       "      <th>title</th>\n",
       "      <th>series</th>\n",
       "      <th>author</th>\n",
       "      <th>rating</th>\n",
       "      <th>description</th>\n",
       "      <th>genres</th>\n",
       "      <th>tags</th>\n",
       "    </tr>\n",
       "  </thead>\n",
       "  <tbody>\n",
       "    <tr>\n",
       "      <th>0</th>\n",
       "      <td>2767052-the-hunger-games</td>\n",
       "      <td>The Hunger Games</td>\n",
       "      <td>The Hunger Games #1</td>\n",
       "      <td>Suzanne Collins</td>\n",
       "      <td>4.33</td>\n",
       "      <td>WINNING MEANS FAME AND FORTUNE.LOSING MEANS CE...</td>\n",
       "      <td>['Young Adult', 'Fiction', 'Dystopia', 'Fantas...</td>\n",
       "      <td>WINNING MEANS FAME AND FORTUNE.LOSING MEANS CE...</td>\n",
       "    </tr>\n",
       "    <tr>\n",
       "      <th>1</th>\n",
       "      <td>2.Harry_Potter_and_the_Order_of_the_Phoenix</td>\n",
       "      <td>Harry Potter and the Order of the Phoenix</td>\n",
       "      <td>Harry Potter #5</td>\n",
       "      <td>J.K. Rowling, Mary GrandPré (Illustrator)</td>\n",
       "      <td>4.50</td>\n",
       "      <td>There is a door at the end of a silent corrido...</td>\n",
       "      <td>['Fantasy', 'Young Adult', 'Fiction', 'Magic',...</td>\n",
       "      <td>There is a door at the end of a silent corrido...</td>\n",
       "    </tr>\n",
       "    <tr>\n",
       "      <th>2</th>\n",
       "      <td>2657.To_Kill_a_Mockingbird</td>\n",
       "      <td>To Kill a Mockingbird</td>\n",
       "      <td>To Kill a Mockingbird</td>\n",
       "      <td>Harper Lee</td>\n",
       "      <td>4.28</td>\n",
       "      <td>The unforgettable novel of a childhood in a sl...</td>\n",
       "      <td>['Classics', 'Fiction', 'Historical Fiction', ...</td>\n",
       "      <td>The unforgettable novel of a childhood in a sl...</td>\n",
       "    </tr>\n",
       "    <tr>\n",
       "      <th>4</th>\n",
       "      <td>41865.Twilight</td>\n",
       "      <td>Twilight</td>\n",
       "      <td>The Twilight Saga #1</td>\n",
       "      <td>Stephenie Meyer</td>\n",
       "      <td>3.60</td>\n",
       "      <td>About three things I was absolutely positive.\\...</td>\n",
       "      <td>['Young Adult', 'Fantasy', 'Romance', 'Vampire...</td>\n",
       "      <td>About three things I was absolutely positive.\\...</td>\n",
       "    </tr>\n",
       "    <tr>\n",
       "      <th>7</th>\n",
       "      <td>11127.The_Chronicles_of_Narnia</td>\n",
       "      <td>The Chronicles of Narnia</td>\n",
       "      <td>The Chronicles of Narnia (Publication Order) #1–7</td>\n",
       "      <td>C.S. Lewis, Pauline Baynes (Illustrator)</td>\n",
       "      <td>4.26</td>\n",
       "      <td>Journeys to the end of the world, fantastic cr...</td>\n",
       "      <td>['Fantasy', 'Classics', 'Fiction', 'Young Adul...</td>\n",
       "      <td>Journeys to the end of the world, fantastic cr...</td>\n",
       "    </tr>\n",
       "    <tr>\n",
       "      <th>8</th>\n",
       "      <td>30.J_R_R_Tolkien_4_Book_Boxed_Set</td>\n",
       "      <td>J.R.R. Tolkien 4-Book Boxed Set: The Hobbit an...</td>\n",
       "      <td>The Lord of the Rings #0-3</td>\n",
       "      <td>J.R.R. Tolkien</td>\n",
       "      <td>4.60</td>\n",
       "      <td>This four-volume, boxed set contains J.R.R. To...</td>\n",
       "      <td>['Fantasy', 'Fiction', 'Classics', 'Adventure'...</td>\n",
       "      <td>This four-volume, boxed set contains J.R.R. To...</td>\n",
       "    </tr>\n",
       "    <tr>\n",
       "      <th>11</th>\n",
       "      <td>386162.The_Hitchhiker_s_Guide_to_the_Galaxy</td>\n",
       "      <td>The Hitchhiker's Guide to the Galaxy</td>\n",
       "      <td>The Hitchhiker's Guide to the Galaxy #1</td>\n",
       "      <td>Douglas Adams</td>\n",
       "      <td>4.22</td>\n",
       "      <td>Seconds before the Earth is demolished to make...</td>\n",
       "      <td>['Science Fiction', 'Fiction', 'Humor', 'Fanta...</td>\n",
       "      <td>Seconds before the Earth is demolished to make...</td>\n",
       "    </tr>\n",
       "    <tr>\n",
       "      <th>14</th>\n",
       "      <td>968.The_Da_Vinci_Code</td>\n",
       "      <td>The Da Vinci Code</td>\n",
       "      <td>Robert Langdon #2</td>\n",
       "      <td>Dan Brown (Goodreads Author)</td>\n",
       "      <td>3.86</td>\n",
       "      <td>ISBN 9780307277671 moved to this edition.While...</td>\n",
       "      <td>['Fiction', 'Mystery', 'Thriller', 'Suspense',...</td>\n",
       "      <td>ISBN 9780307277671 moved to this edition.While...</td>\n",
       "    </tr>\n",
       "    <tr>\n",
       "      <th>17</th>\n",
       "      <td>24213.Alice_s_Adventures_in_Wonderland_Through...</td>\n",
       "      <td>Alice's Adventures in Wonderland &amp; Through the...</td>\n",
       "      <td>Alice's Adventures in Wonderland #1-2</td>\n",
       "      <td>Lewis Carroll, John Tenniel (Illustrator), Mar...</td>\n",
       "      <td>4.06</td>\n",
       "      <td>\"I can't explain myself, I'm afraid, sir,\" sai...</td>\n",
       "      <td>['Classics', 'Fantasy', 'Fiction', 'Childrens'...</td>\n",
       "      <td>\"I can't explain myself, I'm afraid, sir,\" sai...</td>\n",
       "    </tr>\n",
       "    <tr>\n",
       "      <th>21</th>\n",
       "      <td>13335037-divergent</td>\n",
       "      <td>Divergent</td>\n",
       "      <td>Divergent #1</td>\n",
       "      <td>Veronica Roth (Goodreads Author)</td>\n",
       "      <td>4.19</td>\n",
       "      <td>In Beatrice Prior's dystopian Chicago world, s...</td>\n",
       "      <td>['Young Adult', 'Dystopia', 'Fiction', 'Fantas...</td>\n",
       "      <td>In Beatrice Prior's dystopian Chicago world, s...</td>\n",
       "    </tr>\n",
       "  </tbody>\n",
       "</table>\n",
       "</div>"
      ],
      "text/plain": [
       "                                               bookId  \\\n",
       "0                            2767052-the-hunger-games   \n",
       "1         2.Harry_Potter_and_the_Order_of_the_Phoenix   \n",
       "2                          2657.To_Kill_a_Mockingbird   \n",
       "4                                      41865.Twilight   \n",
       "7                      11127.The_Chronicles_of_Narnia   \n",
       "8                   30.J_R_R_Tolkien_4_Book_Boxed_Set   \n",
       "11        386162.The_Hitchhiker_s_Guide_to_the_Galaxy   \n",
       "14                              968.The_Da_Vinci_Code   \n",
       "17  24213.Alice_s_Adventures_in_Wonderland_Through...   \n",
       "21                                 13335037-divergent   \n",
       "\n",
       "                                                title  \\\n",
       "0                                    The Hunger Games   \n",
       "1           Harry Potter and the Order of the Phoenix   \n",
       "2                               To Kill a Mockingbird   \n",
       "4                                            Twilight   \n",
       "7                            The Chronicles of Narnia   \n",
       "8   J.R.R. Tolkien 4-Book Boxed Set: The Hobbit an...   \n",
       "11               The Hitchhiker's Guide to the Galaxy   \n",
       "14                                  The Da Vinci Code   \n",
       "17  Alice's Adventures in Wonderland & Through the...   \n",
       "21                                          Divergent   \n",
       "\n",
       "                                               series  \\\n",
       "0                                 The Hunger Games #1   \n",
       "1                                     Harry Potter #5   \n",
       "2                               To Kill a Mockingbird   \n",
       "4                                The Twilight Saga #1   \n",
       "7   The Chronicles of Narnia (Publication Order) #1–7   \n",
       "8                          The Lord of the Rings #0-3   \n",
       "11            The Hitchhiker's Guide to the Galaxy #1   \n",
       "14                                  Robert Langdon #2   \n",
       "17              Alice's Adventures in Wonderland #1-2   \n",
       "21                                       Divergent #1   \n",
       "\n",
       "                                               author  rating  \\\n",
       "0                                     Suzanne Collins    4.33   \n",
       "1           J.K. Rowling, Mary GrandPré (Illustrator)    4.50   \n",
       "2                                          Harper Lee    4.28   \n",
       "4                                     Stephenie Meyer    3.60   \n",
       "7            C.S. Lewis, Pauline Baynes (Illustrator)    4.26   \n",
       "8                                      J.R.R. Tolkien    4.60   \n",
       "11                                      Douglas Adams    4.22   \n",
       "14                       Dan Brown (Goodreads Author)    3.86   \n",
       "17  Lewis Carroll, John Tenniel (Illustrator), Mar...    4.06   \n",
       "21                   Veronica Roth (Goodreads Author)    4.19   \n",
       "\n",
       "                                          description  \\\n",
       "0   WINNING MEANS FAME AND FORTUNE.LOSING MEANS CE...   \n",
       "1   There is a door at the end of a silent corrido...   \n",
       "2   The unforgettable novel of a childhood in a sl...   \n",
       "4   About three things I was absolutely positive.\\...   \n",
       "7   Journeys to the end of the world, fantastic cr...   \n",
       "8   This four-volume, boxed set contains J.R.R. To...   \n",
       "11  Seconds before the Earth is demolished to make...   \n",
       "14  ISBN 9780307277671 moved to this edition.While...   \n",
       "17  \"I can't explain myself, I'm afraid, sir,\" sai...   \n",
       "21  In Beatrice Prior's dystopian Chicago world, s...   \n",
       "\n",
       "                                               genres  \\\n",
       "0   ['Young Adult', 'Fiction', 'Dystopia', 'Fantas...   \n",
       "1   ['Fantasy', 'Young Adult', 'Fiction', 'Magic',...   \n",
       "2   ['Classics', 'Fiction', 'Historical Fiction', ...   \n",
       "4   ['Young Adult', 'Fantasy', 'Romance', 'Vampire...   \n",
       "7   ['Fantasy', 'Classics', 'Fiction', 'Young Adul...   \n",
       "8   ['Fantasy', 'Fiction', 'Classics', 'Adventure'...   \n",
       "11  ['Science Fiction', 'Fiction', 'Humor', 'Fanta...   \n",
       "14  ['Fiction', 'Mystery', 'Thriller', 'Suspense',...   \n",
       "17  ['Classics', 'Fantasy', 'Fiction', 'Childrens'...   \n",
       "21  ['Young Adult', 'Dystopia', 'Fiction', 'Fantas...   \n",
       "\n",
       "                                                 tags  \n",
       "0   WINNING MEANS FAME AND FORTUNE.LOSING MEANS CE...  \n",
       "1   There is a door at the end of a silent corrido...  \n",
       "2   The unforgettable novel of a childhood in a sl...  \n",
       "4   About three things I was absolutely positive.\\...  \n",
       "7   Journeys to the end of the world, fantastic cr...  \n",
       "8   This four-volume, boxed set contains J.R.R. To...  \n",
       "11  Seconds before the Earth is demolished to make...  \n",
       "14  ISBN 9780307277671 moved to this edition.While...  \n",
       "17  \"I can't explain myself, I'm afraid, sir,\" sai...  \n",
       "21  In Beatrice Prior's dystopian Chicago world, s...  "
      ]
     },
     "execution_count": 13,
     "metadata": {},
     "output_type": "execute_result"
    }
   ],
   "source": [
    "books.head(10)"
   ]
  },
  {
   "cell_type": "code",
   "execution_count": 14,
   "id": "7624b0e0-6cb2-41f7-9d5e-331c507e663d",
   "metadata": {},
   "outputs": [],
   "source": [
    "new_df=books[['bookId','title','genres','tags',]]"
   ]
  },
  {
   "cell_type": "code",
   "execution_count": 15,
   "id": "046b3696-a6d6-443e-923a-04b41a24c361",
   "metadata": {},
   "outputs": [
    {
     "data": {
      "text/html": [
       "<div>\n",
       "<style scoped>\n",
       "    .dataframe tbody tr th:only-of-type {\n",
       "        vertical-align: middle;\n",
       "    }\n",
       "\n",
       "    .dataframe tbody tr th {\n",
       "        vertical-align: top;\n",
       "    }\n",
       "\n",
       "    .dataframe thead th {\n",
       "        text-align: right;\n",
       "    }\n",
       "</style>\n",
       "<table border=\"1\" class=\"dataframe\">\n",
       "  <thead>\n",
       "    <tr style=\"text-align: right;\">\n",
       "      <th></th>\n",
       "      <th>bookId</th>\n",
       "      <th>title</th>\n",
       "      <th>genres</th>\n",
       "      <th>tags</th>\n",
       "    </tr>\n",
       "  </thead>\n",
       "  <tbody>\n",
       "    <tr>\n",
       "      <th>0</th>\n",
       "      <td>2767052-the-hunger-games</td>\n",
       "      <td>The Hunger Games</td>\n",
       "      <td>['Young Adult', 'Fiction', 'Dystopia', 'Fantas...</td>\n",
       "      <td>WINNING MEANS FAME AND FORTUNE.LOSING MEANS CE...</td>\n",
       "    </tr>\n",
       "    <tr>\n",
       "      <th>1</th>\n",
       "      <td>2.Harry_Potter_and_the_Order_of_the_Phoenix</td>\n",
       "      <td>Harry Potter and the Order of the Phoenix</td>\n",
       "      <td>['Fantasy', 'Young Adult', 'Fiction', 'Magic',...</td>\n",
       "      <td>There is a door at the end of a silent corrido...</td>\n",
       "    </tr>\n",
       "    <tr>\n",
       "      <th>2</th>\n",
       "      <td>2657.To_Kill_a_Mockingbird</td>\n",
       "      <td>To Kill a Mockingbird</td>\n",
       "      <td>['Classics', 'Fiction', 'Historical Fiction', ...</td>\n",
       "      <td>The unforgettable novel of a childhood in a sl...</td>\n",
       "    </tr>\n",
       "    <tr>\n",
       "      <th>4</th>\n",
       "      <td>41865.Twilight</td>\n",
       "      <td>Twilight</td>\n",
       "      <td>['Young Adult', 'Fantasy', 'Romance', 'Vampire...</td>\n",
       "      <td>About three things I was absolutely positive.\\...</td>\n",
       "    </tr>\n",
       "    <tr>\n",
       "      <th>7</th>\n",
       "      <td>11127.The_Chronicles_of_Narnia</td>\n",
       "      <td>The Chronicles of Narnia</td>\n",
       "      <td>['Fantasy', 'Classics', 'Fiction', 'Young Adul...</td>\n",
       "      <td>Journeys to the end of the world, fantastic cr...</td>\n",
       "    </tr>\n",
       "    <tr>\n",
       "      <th>...</th>\n",
       "      <td>...</td>\n",
       "      <td>...</td>\n",
       "      <td>...</td>\n",
       "      <td>...</td>\n",
       "    </tr>\n",
       "    <tr>\n",
       "      <th>52472</th>\n",
       "      <td>12395883-unbelievable</td>\n",
       "      <td>Unbelievable</td>\n",
       "      <td>['Romance', 'Young Adult', 'Contemporary', 'Co...</td>\n",
       "      <td>Lilah Lopez Dreser's in town to take care of u...</td>\n",
       "    </tr>\n",
       "    <tr>\n",
       "      <th>52473</th>\n",
       "      <td>11492014-fractured</td>\n",
       "      <td>Fractured</td>\n",
       "      <td>['Vampires', 'Paranormal', 'Young Adult', 'Rom...</td>\n",
       "      <td>The Fateful Trilogy continues with Fractured. ...</td>\n",
       "    </tr>\n",
       "    <tr>\n",
       "      <th>52474</th>\n",
       "      <td>11836711-anasazi</td>\n",
       "      <td>Anasazi</td>\n",
       "      <td>['Mystery', 'Young Adult']</td>\n",
       "      <td>'Anasazi', sequel to 'The Thirteenth Chime' by...</td>\n",
       "    </tr>\n",
       "    <tr>\n",
       "      <th>52475</th>\n",
       "      <td>10815662-marked</td>\n",
       "      <td>Marked</td>\n",
       "      <td>['Fantasy', 'Young Adult', 'Paranormal', 'Ange...</td>\n",
       "      <td>--READERS FAVORITE AWARDS WINNER 2011--Sixteen...</td>\n",
       "    </tr>\n",
       "    <tr>\n",
       "      <th>52477</th>\n",
       "      <td>10991547-daughter-of-helaman</td>\n",
       "      <td>Daughter of Helaman</td>\n",
       "      <td>['Lds Fiction', 'Historical Fiction', 'Young A...</td>\n",
       "      <td>Fighting in Helaman's army is Keturah's deepes...</td>\n",
       "    </tr>\n",
       "  </tbody>\n",
       "</table>\n",
       "<p>23277 rows × 4 columns</p>\n",
       "</div>"
      ],
      "text/plain": [
       "                                            bookId  \\\n",
       "0                         2767052-the-hunger-games   \n",
       "1      2.Harry_Potter_and_the_Order_of_the_Phoenix   \n",
       "2                       2657.To_Kill_a_Mockingbird   \n",
       "4                                   41865.Twilight   \n",
       "7                   11127.The_Chronicles_of_Narnia   \n",
       "...                                            ...   \n",
       "52472                        12395883-unbelievable   \n",
       "52473                           11492014-fractured   \n",
       "52474                             11836711-anasazi   \n",
       "52475                              10815662-marked   \n",
       "52477                 10991547-daughter-of-helaman   \n",
       "\n",
       "                                           title  \\\n",
       "0                               The Hunger Games   \n",
       "1      Harry Potter and the Order of the Phoenix   \n",
       "2                          To Kill a Mockingbird   \n",
       "4                                       Twilight   \n",
       "7                       The Chronicles of Narnia   \n",
       "...                                          ...   \n",
       "52472                               Unbelievable   \n",
       "52473                                  Fractured   \n",
       "52474                                    Anasazi   \n",
       "52475                                     Marked   \n",
       "52477                        Daughter of Helaman   \n",
       "\n",
       "                                                  genres  \\\n",
       "0      ['Young Adult', 'Fiction', 'Dystopia', 'Fantas...   \n",
       "1      ['Fantasy', 'Young Adult', 'Fiction', 'Magic',...   \n",
       "2      ['Classics', 'Fiction', 'Historical Fiction', ...   \n",
       "4      ['Young Adult', 'Fantasy', 'Romance', 'Vampire...   \n",
       "7      ['Fantasy', 'Classics', 'Fiction', 'Young Adul...   \n",
       "...                                                  ...   \n",
       "52472  ['Romance', 'Young Adult', 'Contemporary', 'Co...   \n",
       "52473  ['Vampires', 'Paranormal', 'Young Adult', 'Rom...   \n",
       "52474                         ['Mystery', 'Young Adult']   \n",
       "52475  ['Fantasy', 'Young Adult', 'Paranormal', 'Ange...   \n",
       "52477  ['Lds Fiction', 'Historical Fiction', 'Young A...   \n",
       "\n",
       "                                                    tags  \n",
       "0      WINNING MEANS FAME AND FORTUNE.LOSING MEANS CE...  \n",
       "1      There is a door at the end of a silent corrido...  \n",
       "2      The unforgettable novel of a childhood in a sl...  \n",
       "4      About three things I was absolutely positive.\\...  \n",
       "7      Journeys to the end of the world, fantastic cr...  \n",
       "...                                                  ...  \n",
       "52472  Lilah Lopez Dreser's in town to take care of u...  \n",
       "52473  The Fateful Trilogy continues with Fractured. ...  \n",
       "52474  'Anasazi', sequel to 'The Thirteenth Chime' by...  \n",
       "52475  --READERS FAVORITE AWARDS WINNER 2011--Sixteen...  \n",
       "52477  Fighting in Helaman's army is Keturah's deepes...  \n",
       "\n",
       "[23277 rows x 4 columns]"
      ]
     },
     "execution_count": 15,
     "metadata": {},
     "output_type": "execute_result"
    }
   ],
   "source": [
    "new_df"
   ]
  },
  {
   "cell_type": "code",
   "execution_count": 16,
   "id": "0786cdc3-33eb-4498-8712-7e86f2eac692",
   "metadata": {},
   "outputs": [
    {
     "data": {
      "text/plain": [
       "\"WINNING MEANS FAME AND FORTUNE.LOSING MEANS CERTAIN DEATH.THE HUNGER GAMES HAVE BEGUN. . . .In the ruins of a place once known as North America lies the nation of Panem, a shining Capitol surrounded by twelve outlying districts. The Capitol is harsh and cruel and keeps the districts in line by forcing them all to send one boy and once girl between the ages of twelve and eighteen to participate in the annual Hunger Games, a fight to the death on live TV.Sixteen-year-old Katniss Everdeen regards it as a death sentence when she steps forward to take her sister's place in the Games. But Katniss has been close to dead before—and survival, for her, is second nature. Without really meaning to, she becomes a contender. But if she is to win, she will have to start making choices that weight survival against humanity and life against love.Suzanne CollinsThe Hunger Games #14.33\""
      ]
     },
     "execution_count": 16,
     "metadata": {},
     "output_type": "execute_result"
    }
   ],
   "source": [
    "new_df.iloc[0].tags"
   ]
  },
  {
   "cell_type": "code",
   "execution_count": 17,
   "id": "299c2a65-7867-4c13-a36f-20154c291887",
   "metadata": {},
   "outputs": [
    {
     "data": {
      "text/plain": [
       "0        WINNING MEANS FAME AND FORTUNE.LOSING MEANS CE...\n",
       "1        There is a door at the end of a silent corrido...\n",
       "2        The unforgettable novel of a childhood in a sl...\n",
       "4        About three things I was absolutely positive.\\...\n",
       "7        Journeys to the end of the world, fantastic cr...\n",
       "                               ...                        \n",
       "52472    Lilah Lopez Dreser's in town to take care of u...\n",
       "52473    The Fateful Trilogy continues with Fractured. ...\n",
       "52474    'Anasazi', sequel to 'The Thirteenth Chime' by...\n",
       "52475    --READERS FAVORITE AWARDS WINNER 2011--Sixteen...\n",
       "52477    Fighting in Helaman's army is Keturah's deepes...\n",
       "Name: tags, Length: 23277, dtype: object"
      ]
     },
     "execution_count": 17,
     "metadata": {},
     "output_type": "execute_result"
    }
   ],
   "source": [
    "new_df['tags']"
   ]
  },
  {
   "cell_type": "code",
   "execution_count": 18,
   "id": "3c2617ba-339d-42a5-a62c-65220544f1db",
   "metadata": {
    "scrolled": true
   },
   "outputs": [
    {
     "data": {
      "text/html": [
       "<div>\n",
       "<style scoped>\n",
       "    .dataframe tbody tr th:only-of-type {\n",
       "        vertical-align: middle;\n",
       "    }\n",
       "\n",
       "    .dataframe tbody tr th {\n",
       "        vertical-align: top;\n",
       "    }\n",
       "\n",
       "    .dataframe thead th {\n",
       "        text-align: right;\n",
       "    }\n",
       "</style>\n",
       "<table border=\"1\" class=\"dataframe\">\n",
       "  <thead>\n",
       "    <tr style=\"text-align: right;\">\n",
       "      <th></th>\n",
       "      <th>bookId</th>\n",
       "      <th>title</th>\n",
       "      <th>genres</th>\n",
       "      <th>tags</th>\n",
       "    </tr>\n",
       "  </thead>\n",
       "  <tbody>\n",
       "    <tr>\n",
       "      <th>0</th>\n",
       "      <td>2767052-the-hunger-games</td>\n",
       "      <td>The Hunger Games</td>\n",
       "      <td>['Young Adult', 'Fiction', 'Dystopia', 'Fantas...</td>\n",
       "      <td>WINNING MEANS FAME AND FORTUNE.LOSING MEANS CE...</td>\n",
       "    </tr>\n",
       "    <tr>\n",
       "      <th>1</th>\n",
       "      <td>2.Harry_Potter_and_the_Order_of_the_Phoenix</td>\n",
       "      <td>Harry Potter and the Order of the Phoenix</td>\n",
       "      <td>['Fantasy', 'Young Adult', 'Fiction', 'Magic',...</td>\n",
       "      <td>There is a door at the end of a silent corrido...</td>\n",
       "    </tr>\n",
       "    <tr>\n",
       "      <th>2</th>\n",
       "      <td>2657.To_Kill_a_Mockingbird</td>\n",
       "      <td>To Kill a Mockingbird</td>\n",
       "      <td>['Classics', 'Fiction', 'Historical Fiction', ...</td>\n",
       "      <td>The unforgettable novel of a childhood in a sl...</td>\n",
       "    </tr>\n",
       "    <tr>\n",
       "      <th>4</th>\n",
       "      <td>41865.Twilight</td>\n",
       "      <td>Twilight</td>\n",
       "      <td>['Young Adult', 'Fantasy', 'Romance', 'Vampire...</td>\n",
       "      <td>About three things I was absolutely positive.\\...</td>\n",
       "    </tr>\n",
       "    <tr>\n",
       "      <th>7</th>\n",
       "      <td>11127.The_Chronicles_of_Narnia</td>\n",
       "      <td>The Chronicles of Narnia</td>\n",
       "      <td>['Fantasy', 'Classics', 'Fiction', 'Young Adul...</td>\n",
       "      <td>Journeys to the end of the world, fantastic cr...</td>\n",
       "    </tr>\n",
       "    <tr>\n",
       "      <th>...</th>\n",
       "      <td>...</td>\n",
       "      <td>...</td>\n",
       "      <td>...</td>\n",
       "      <td>...</td>\n",
       "    </tr>\n",
       "    <tr>\n",
       "      <th>221</th>\n",
       "      <td>6148028-catching-fire</td>\n",
       "      <td>Catching Fire</td>\n",
       "      <td>['Young Adult', 'Dystopia', 'Fiction', 'Fantas...</td>\n",
       "      <td>SPARKS ARE IGNITING.FLAMES ARE SPREADING.AND T...</td>\n",
       "    </tr>\n",
       "    <tr>\n",
       "      <th>222</th>\n",
       "      <td>7736182-the-lost-hero</td>\n",
       "      <td>The Lost Hero</td>\n",
       "      <td>['Fantasy', 'Young Adult', 'Mythology', 'Ficti...</td>\n",
       "      <td>JASON HAS A PROBLEM. He doesn’t remember anyth...</td>\n",
       "    </tr>\n",
       "    <tr>\n",
       "      <th>223</th>\n",
       "      <td>7896527-throne-of-glass</td>\n",
       "      <td>Throne of Glass</td>\n",
       "      <td>['Fantasy', 'Young Adult', 'Romance', 'Fiction...</td>\n",
       "      <td>This is a previously published edition of  ISB...</td>\n",
       "    </tr>\n",
       "    <tr>\n",
       "      <th>224</th>\n",
       "      <td>6479259-spirit-bound</td>\n",
       "      <td>Spirit Bound</td>\n",
       "      <td>['Young Adult', 'Vampires', 'Fantasy', 'Parano...</td>\n",
       "      <td>Salvation has its price . . .The words stunned...</td>\n",
       "    </tr>\n",
       "    <tr>\n",
       "      <th>225</th>\n",
       "      <td>10025305-clockwork-prince</td>\n",
       "      <td>Clockwork Prince</td>\n",
       "      <td>['Fantasy', 'Young Adult', 'Romance', 'Paranor...</td>\n",
       "      <td>In the magical underworld of Victorian London,...</td>\n",
       "    </tr>\n",
       "  </tbody>\n",
       "</table>\n",
       "<p>100 rows × 4 columns</p>\n",
       "</div>"
      ],
      "text/plain": [
       "                                          bookId  \\\n",
       "0                       2767052-the-hunger-games   \n",
       "1    2.Harry_Potter_and_the_Order_of_the_Phoenix   \n",
       "2                     2657.To_Kill_a_Mockingbird   \n",
       "4                                 41865.Twilight   \n",
       "7                 11127.The_Chronicles_of_Narnia   \n",
       "..                                           ...   \n",
       "221                        6148028-catching-fire   \n",
       "222                        7736182-the-lost-hero   \n",
       "223                      7896527-throne-of-glass   \n",
       "224                         6479259-spirit-bound   \n",
       "225                    10025305-clockwork-prince   \n",
       "\n",
       "                                         title  \\\n",
       "0                             The Hunger Games   \n",
       "1    Harry Potter and the Order of the Phoenix   \n",
       "2                        To Kill a Mockingbird   \n",
       "4                                     Twilight   \n",
       "7                     The Chronicles of Narnia   \n",
       "..                                         ...   \n",
       "221                              Catching Fire   \n",
       "222                              The Lost Hero   \n",
       "223                            Throne of Glass   \n",
       "224                               Spirit Bound   \n",
       "225                           Clockwork Prince   \n",
       "\n",
       "                                                genres  \\\n",
       "0    ['Young Adult', 'Fiction', 'Dystopia', 'Fantas...   \n",
       "1    ['Fantasy', 'Young Adult', 'Fiction', 'Magic',...   \n",
       "2    ['Classics', 'Fiction', 'Historical Fiction', ...   \n",
       "4    ['Young Adult', 'Fantasy', 'Romance', 'Vampire...   \n",
       "7    ['Fantasy', 'Classics', 'Fiction', 'Young Adul...   \n",
       "..                                                 ...   \n",
       "221  ['Young Adult', 'Dystopia', 'Fiction', 'Fantas...   \n",
       "222  ['Fantasy', 'Young Adult', 'Mythology', 'Ficti...   \n",
       "223  ['Fantasy', 'Young Adult', 'Romance', 'Fiction...   \n",
       "224  ['Young Adult', 'Vampires', 'Fantasy', 'Parano...   \n",
       "225  ['Fantasy', 'Young Adult', 'Romance', 'Paranor...   \n",
       "\n",
       "                                                  tags  \n",
       "0    WINNING MEANS FAME AND FORTUNE.LOSING MEANS CE...  \n",
       "1    There is a door at the end of a silent corrido...  \n",
       "2    The unforgettable novel of a childhood in a sl...  \n",
       "4    About three things I was absolutely positive.\\...  \n",
       "7    Journeys to the end of the world, fantastic cr...  \n",
       "..                                                 ...  \n",
       "221  SPARKS ARE IGNITING.FLAMES ARE SPREADING.AND T...  \n",
       "222  JASON HAS A PROBLEM. He doesn’t remember anyth...  \n",
       "223  This is a previously published edition of  ISB...  \n",
       "224  Salvation has its price . . .The words stunned...  \n",
       "225  In the magical underworld of Victorian London,...  \n",
       "\n",
       "[100 rows x 4 columns]"
      ]
     },
     "execution_count": 18,
     "metadata": {},
     "output_type": "execute_result"
    }
   ],
   "source": [
    "new_df.head(100)"
   ]
  },
  {
   "cell_type": "code",
   "execution_count": 19,
   "id": "db41e69a-9645-4fed-a74f-3e233c336567",
   "metadata": {},
   "outputs": [],
   "source": [
    "import nltk"
   ]
  },
  {
   "cell_type": "code",
   "execution_count": 20,
   "id": "09280258-3eea-4f44-9834-e3b7757519c8",
   "metadata": {},
   "outputs": [
    {
     "name": "stdout",
     "output_type": "stream",
     "text": [
      "Requirement already satisfied: nltk in c:\\users\\vinay\\anaconda3\\lib\\site-packages (3.9.1)\n",
      "Requirement already satisfied: click in c:\\users\\vinay\\anaconda3\\lib\\site-packages (from nltk) (8.1.7)\n",
      "Requirement already satisfied: joblib in c:\\users\\vinay\\anaconda3\\lib\\site-packages (from nltk) (1.4.2)\n",
      "Requirement already satisfied: regex>=2021.8.3 in c:\\users\\vinay\\anaconda3\\lib\\site-packages (from nltk) (2024.9.11)\n",
      "Requirement already satisfied: tqdm in c:\\users\\vinay\\anaconda3\\lib\\site-packages (from nltk) (4.66.5)\n",
      "Requirement already satisfied: colorama in c:\\users\\vinay\\anaconda3\\lib\\site-packages (from click->nltk) (0.4.6)\n"
     ]
    }
   ],
   "source": [
    "!pip install nltk"
   ]
  },
  {
   "cell_type": "code",
   "execution_count": 21,
   "id": "710fc5b5-ed26-4b46-a195-c45779e733db",
   "metadata": {},
   "outputs": [],
   "source": [
    "from nltk.stem.porter import PorterStemmer\n",
    "ps= PorterStemmer()"
   ]
  },
  {
   "cell_type": "code",
   "execution_count": 22,
   "id": "b13172f1-4caa-4005-8c3f-62f02d2f10a7",
   "metadata": {},
   "outputs": [],
   "source": [
    "def stem(text):\n",
    "    y=[]\n",
    "\n",
    "    for i in text.split():\n",
    "        y.append(ps.stem(i))\n",
    "\n",
    "    return \" \".join(y)"
   ]
  },
  {
   "cell_type": "code",
   "execution_count": 23,
   "id": "0caaa733-0545-4436-9cde-d6702be0d868",
   "metadata": {},
   "outputs": [
    {
     "name": "stderr",
     "output_type": "stream",
     "text": [
      "C:\\Users\\vinay\\AppData\\Local\\Temp\\ipykernel_19536\\3514595201.py:1: SettingWithCopyWarning: \n",
      "A value is trying to be set on a copy of a slice from a DataFrame.\n",
      "Try using .loc[row_indexer,col_indexer] = value instead\n",
      "\n",
      "See the caveats in the documentation: https://pandas.pydata.org/pandas-docs/stable/user_guide/indexing.html#returning-a-view-versus-a-copy\n",
      "  new_df['tags']=new_df['tags'].apply(stem)\n"
     ]
    }
   ],
   "source": [
    "new_df['tags']=new_df['tags'].apply(stem)"
   ]
  },
  {
   "cell_type": "code",
   "execution_count": 24,
   "id": "f7e71c8d-941d-4bd7-b3df-94da2c740cdf",
   "metadata": {},
   "outputs": [
    {
     "data": {
      "text/plain": [
       "'second befor the earth is demolish to make way for a galact freeway, arthur dent is pluck off the planet by hi friend ford prefect, a research for the revis edit of the hitchhiker\\' guid to the galaxi who, for the last fifteen years, ha been pose as an out-of-work actor.togeth thi dynam pair begin a journey through space aid by quot from the hitchhiker\\' guid (\"a towel is about the most massiv use thing an interstellar hitchhik can have\") and a galaxy-ful of fellow travelers: zaphod beeblebrox—th two-headed, three-arm ex-hippi and total out-to-lunch presid of the galaxy; trillian, zaphod\\' girlfriend (formal tricia mcmillan), whom arthur tri to pick up at a cocktail parti onc upon a time zone; marvin, a paranoid, brilliant, and chronic depress robot; veet voojagig, a former graduat student who is obsess with the disappear of all the ballpoint pen he bought over the years.dougla adamsth hitchhiker\\' guid to the galaxi #14.22'"
      ]
     },
     "execution_count": 24,
     "metadata": {},
     "output_type": "execute_result"
    }
   ],
   "source": [
    "new_df['tags'][11]"
   ]
  },
  {
   "cell_type": "code",
   "execution_count": 25,
   "id": "de9dca32-459e-4074-9e33-428b81ca72ac",
   "metadata": {},
   "outputs": [
    {
     "name": "stderr",
     "output_type": "stream",
     "text": [
      "C:\\Users\\vinay\\AppData\\Local\\Temp\\ipykernel_19536\\4224080999.py:1: SettingWithCopyWarning: \n",
      "A value is trying to be set on a copy of a slice from a DataFrame.\n",
      "Try using .loc[row_indexer,col_indexer] = value instead\n",
      "\n",
      "See the caveats in the documentation: https://pandas.pydata.org/pandas-docs/stable/user_guide/indexing.html#returning-a-view-versus-a-copy\n",
      "  new_df['tags']=new_df['tags'].apply(lambda x:x.lower())\n"
     ]
    }
   ],
   "source": [
    "new_df['tags']=new_df['tags'].apply(lambda x:x.lower())"
   ]
  },
  {
   "cell_type": "code",
   "execution_count": 26,
   "id": "e2280dcb-8958-4391-8dd4-602ea282c5a7",
   "metadata": {},
   "outputs": [
    {
     "data": {
      "text/plain": [
       "'second befor the earth is demolish to make way for a galact freeway, arthur dent is pluck off the planet by hi friend ford prefect, a research for the revis edit of the hitchhiker\\' guid to the galaxi who, for the last fifteen years, ha been pose as an out-of-work actor.togeth thi dynam pair begin a journey through space aid by quot from the hitchhiker\\' guid (\"a towel is about the most massiv use thing an interstellar hitchhik can have\") and a galaxy-ful of fellow travelers: zaphod beeblebrox—th two-headed, three-arm ex-hippi and total out-to-lunch presid of the galaxy; trillian, zaphod\\' girlfriend (formal tricia mcmillan), whom arthur tri to pick up at a cocktail parti onc upon a time zone; marvin, a paranoid, brilliant, and chronic depress robot; veet voojagig, a former graduat student who is obsess with the disappear of all the ballpoint pen he bought over the years.dougla adamsth hitchhiker\\' guid to the galaxi #14.22'"
      ]
     },
     "execution_count": 26,
     "metadata": {},
     "output_type": "execute_result"
    }
   ],
   "source": [
    "new_df['tags'][11]"
   ]
  },
  {
   "cell_type": "code",
   "execution_count": 27,
   "id": "01bf2350-d2ff-43dc-8e52-2a109f51551d",
   "metadata": {},
   "outputs": [
    {
     "data": {
      "text/html": [
       "<div>\n",
       "<style scoped>\n",
       "    .dataframe tbody tr th:only-of-type {\n",
       "        vertical-align: middle;\n",
       "    }\n",
       "\n",
       "    .dataframe tbody tr th {\n",
       "        vertical-align: top;\n",
       "    }\n",
       "\n",
       "    .dataframe thead th {\n",
       "        text-align: right;\n",
       "    }\n",
       "</style>\n",
       "<table border=\"1\" class=\"dataframe\">\n",
       "  <thead>\n",
       "    <tr style=\"text-align: right;\">\n",
       "      <th></th>\n",
       "      <th>bookId</th>\n",
       "      <th>title</th>\n",
       "      <th>genres</th>\n",
       "      <th>tags</th>\n",
       "    </tr>\n",
       "  </thead>\n",
       "  <tbody>\n",
       "    <tr>\n",
       "      <th>0</th>\n",
       "      <td>2767052-the-hunger-games</td>\n",
       "      <td>The Hunger Games</td>\n",
       "      <td>['Young Adult', 'Fiction', 'Dystopia', 'Fantas...</td>\n",
       "      <td>win mean fame and fortune.los mean certain dea...</td>\n",
       "    </tr>\n",
       "    <tr>\n",
       "      <th>1</th>\n",
       "      <td>2.Harry_Potter_and_the_Order_of_the_Phoenix</td>\n",
       "      <td>Harry Potter and the Order of the Phoenix</td>\n",
       "      <td>['Fantasy', 'Young Adult', 'Fiction', 'Magic',...</td>\n",
       "      <td>there is a door at the end of a silent corrido...</td>\n",
       "    </tr>\n",
       "    <tr>\n",
       "      <th>2</th>\n",
       "      <td>2657.To_Kill_a_Mockingbird</td>\n",
       "      <td>To Kill a Mockingbird</td>\n",
       "      <td>['Classics', 'Fiction', 'Historical Fiction', ...</td>\n",
       "      <td>the unforgett novel of a childhood in a sleepi...</td>\n",
       "    </tr>\n",
       "    <tr>\n",
       "      <th>4</th>\n",
       "      <td>41865.Twilight</td>\n",
       "      <td>Twilight</td>\n",
       "      <td>['Young Adult', 'Fantasy', 'Romance', 'Vampire...</td>\n",
       "      <td>about three thing i wa absolut positive. first...</td>\n",
       "    </tr>\n",
       "    <tr>\n",
       "      <th>7</th>\n",
       "      <td>11127.The_Chronicles_of_Narnia</td>\n",
       "      <td>The Chronicles of Narnia</td>\n",
       "      <td>['Fantasy', 'Classics', 'Fiction', 'Young Adul...</td>\n",
       "      <td>journey to the end of the world, fantast creat...</td>\n",
       "    </tr>\n",
       "    <tr>\n",
       "      <th>...</th>\n",
       "      <td>...</td>\n",
       "      <td>...</td>\n",
       "      <td>...</td>\n",
       "      <td>...</td>\n",
       "    </tr>\n",
       "    <tr>\n",
       "      <th>446</th>\n",
       "      <td>3950967-the-tales-of-beedle-the-bard</td>\n",
       "      <td>The Tales of Beedle the Bard</td>\n",
       "      <td>['Fantasy', 'Fiction', 'Young Adult', 'Short S...</td>\n",
       "      <td>the tale of beedl the bard contain five richli...</td>\n",
       "    </tr>\n",
       "    <tr>\n",
       "      <th>450</th>\n",
       "      <td>12127810-the-house-of-hades</td>\n",
       "      <td>The House of Hades</td>\n",
       "      <td>['Fantasy', 'Young Adult', 'Mythology', 'Ficti...</td>\n",
       "      <td>hazel stand at a crossroads. she and the remai...</td>\n",
       "    </tr>\n",
       "    <tr>\n",
       "      <th>451</th>\n",
       "      <td>33600.Shantaram</td>\n",
       "      <td>Shantaram</td>\n",
       "      <td>['Fiction', 'India', 'Travel', 'Adventure', 'C...</td>\n",
       "      <td>\"it took me a long time and most of the world ...</td>\n",
       "    </tr>\n",
       "    <tr>\n",
       "      <th>455</th>\n",
       "      <td>1656001.The_Host</td>\n",
       "      <td>The Host</td>\n",
       "      <td>['Young Adult', 'Science Fiction', 'Fantasy', ...</td>\n",
       "      <td>melani stryder refus to fade away. the earth h...</td>\n",
       "    </tr>\n",
       "    <tr>\n",
       "      <th>456</th>\n",
       "      <td>6411961-the-lost-symbol</td>\n",
       "      <td>The Lost Symbol</td>\n",
       "      <td>['Fiction', 'Mystery', 'Thriller', 'Mystery Th...</td>\n",
       "      <td>what is lost...wil be foundin thi stun follow-...</td>\n",
       "    </tr>\n",
       "  </tbody>\n",
       "</table>\n",
       "<p>200 rows × 4 columns</p>\n",
       "</div>"
      ],
      "text/plain": [
       "                                          bookId  \\\n",
       "0                       2767052-the-hunger-games   \n",
       "1    2.Harry_Potter_and_the_Order_of_the_Phoenix   \n",
       "2                     2657.To_Kill_a_Mockingbird   \n",
       "4                                 41865.Twilight   \n",
       "7                 11127.The_Chronicles_of_Narnia   \n",
       "..                                           ...   \n",
       "446         3950967-the-tales-of-beedle-the-bard   \n",
       "450                  12127810-the-house-of-hades   \n",
       "451                              33600.Shantaram   \n",
       "455                             1656001.The_Host   \n",
       "456                      6411961-the-lost-symbol   \n",
       "\n",
       "                                         title  \\\n",
       "0                             The Hunger Games   \n",
       "1    Harry Potter and the Order of the Phoenix   \n",
       "2                        To Kill a Mockingbird   \n",
       "4                                     Twilight   \n",
       "7                     The Chronicles of Narnia   \n",
       "..                                         ...   \n",
       "446               The Tales of Beedle the Bard   \n",
       "450                         The House of Hades   \n",
       "451                                  Shantaram   \n",
       "455                                   The Host   \n",
       "456                            The Lost Symbol   \n",
       "\n",
       "                                                genres  \\\n",
       "0    ['Young Adult', 'Fiction', 'Dystopia', 'Fantas...   \n",
       "1    ['Fantasy', 'Young Adult', 'Fiction', 'Magic',...   \n",
       "2    ['Classics', 'Fiction', 'Historical Fiction', ...   \n",
       "4    ['Young Adult', 'Fantasy', 'Romance', 'Vampire...   \n",
       "7    ['Fantasy', 'Classics', 'Fiction', 'Young Adul...   \n",
       "..                                                 ...   \n",
       "446  ['Fantasy', 'Fiction', 'Young Adult', 'Short S...   \n",
       "450  ['Fantasy', 'Young Adult', 'Mythology', 'Ficti...   \n",
       "451  ['Fiction', 'India', 'Travel', 'Adventure', 'C...   \n",
       "455  ['Young Adult', 'Science Fiction', 'Fantasy', ...   \n",
       "456  ['Fiction', 'Mystery', 'Thriller', 'Mystery Th...   \n",
       "\n",
       "                                                  tags  \n",
       "0    win mean fame and fortune.los mean certain dea...  \n",
       "1    there is a door at the end of a silent corrido...  \n",
       "2    the unforgett novel of a childhood in a sleepi...  \n",
       "4    about three thing i wa absolut positive. first...  \n",
       "7    journey to the end of the world, fantast creat...  \n",
       "..                                                 ...  \n",
       "446  the tale of beedl the bard contain five richli...  \n",
       "450  hazel stand at a crossroads. she and the remai...  \n",
       "451  \"it took me a long time and most of the world ...  \n",
       "455  melani stryder refus to fade away. the earth h...  \n",
       "456  what is lost...wil be foundin thi stun follow-...  \n",
       "\n",
       "[200 rows x 4 columns]"
      ]
     },
     "execution_count": 27,
     "metadata": {},
     "output_type": "execute_result"
    }
   ],
   "source": [
    "new_df.head(200)"
   ]
  },
  {
   "cell_type": "code",
   "execution_count": 28,
   "id": "c252295e-c641-4da2-a76f-906d6d27ccf8",
   "metadata": {},
   "outputs": [],
   "source": [
    "from sklearn.feature_extraction.text import CountVectorizer\n",
    "cv = CountVectorizer(max_features=5000,stop_words='english')"
   ]
  },
  {
   "cell_type": "code",
   "execution_count": 29,
   "id": "4b41bbc8-85c1-4d51-8c04-15cad59eb6ea",
   "metadata": {},
   "outputs": [],
   "source": [
    "vector = cv.fit_transform(new_df['tags']).toarray()"
   ]
  },
  {
   "cell_type": "code",
   "execution_count": 30,
   "id": "18b5564a-2f0a-410b-a64a-5b0c7baea702",
   "metadata": {},
   "outputs": [
    {
     "data": {
      "text/plain": [
       "array([[0, 0, 0, ..., 0, 0, 0],\n",
       "       [0, 0, 0, ..., 0, 0, 0],\n",
       "       [0, 0, 0, ..., 0, 0, 0],\n",
       "       ...,\n",
       "       [0, 0, 0, ..., 0, 0, 0],\n",
       "       [0, 0, 0, ..., 0, 0, 0],\n",
       "       [0, 0, 1, ..., 0, 0, 0]], dtype=int64)"
      ]
     },
     "execution_count": 30,
     "metadata": {},
     "output_type": "execute_result"
    }
   ],
   "source": [
    "vector"
   ]
  },
  {
   "cell_type": "code",
   "execution_count": 31,
   "id": "fbc39543-4701-4f97-82b1-509e7c24518d",
   "metadata": {},
   "outputs": [
    {
     "data": {
      "text/plain": [
       "(23277, 5000)"
      ]
     },
     "execution_count": 31,
     "metadata": {},
     "output_type": "execute_result"
    }
   ],
   "source": [
    "vector.shape"
   ]
  },
  {
   "cell_type": "code",
   "execution_count": 32,
   "id": "5dce97d2-2133-4de1-b6d9-19c1a99a1763",
   "metadata": {},
   "outputs": [
    {
     "data": {
      "text/plain": [
       "array([0, 0, 0, ..., 0, 0, 0], dtype=int64)"
      ]
     },
     "execution_count": 32,
     "metadata": {},
     "output_type": "execute_result"
    }
   ],
   "source": [
    "vector[100]"
   ]
  },
  {
   "cell_type": "code",
   "execution_count": 33,
   "id": "92f0448e-ad6b-4abb-bd68-e8325116bd34",
   "metadata": {},
   "outputs": [
    {
     "name": "stdout",
     "output_type": "stream",
     "text": [
      "['000' '01' '02' ... 'وقد' 'ويل' 'يتحدث']\n"
     ]
    }
   ],
   "source": [
    "feature_names = cv.get_feature_names_out()\n",
    "\n",
    "print(feature_names)"
   ]
  },
  {
   "cell_type": "code",
   "execution_count": 34,
   "id": "45ab0ebd-5978-4fe2-b837-e39787f07326",
   "metadata": {},
   "outputs": [
    {
     "name": "stdout",
     "output_type": "stream",
     "text": [
      "1.5.1\n"
     ]
    }
   ],
   "source": [
    "import sklearn\n",
    "print(sklearn.__version__)\n"
   ]
  },
  {
   "cell_type": "code",
   "execution_count": 35,
   "id": "274570a1-fc71-43ed-8483-14f03ca91556",
   "metadata": {},
   "outputs": [
    {
     "name": "stdout",
     "output_type": "stream",
     "text": [
      "Requirement already satisfied: scikit-learn in c:\\users\\vinay\\anaconda3\\lib\\site-packages (1.5.1)\n",
      "Requirement already satisfied: numpy>=1.19.5 in c:\\users\\vinay\\anaconda3\\lib\\site-packages (from scikit-learn) (1.26.4)\n",
      "Requirement already satisfied: scipy>=1.6.0 in c:\\users\\vinay\\anaconda3\\lib\\site-packages (from scikit-learn) (1.13.1)\n",
      "Requirement already satisfied: joblib>=1.2.0 in c:\\users\\vinay\\anaconda3\\lib\\site-packages (from scikit-learn) (1.4.2)\n",
      "Requirement already satisfied: threadpoolctl>=3.1.0 in c:\\users\\vinay\\anaconda3\\lib\\site-packages (from scikit-learn) (3.5.0)\n",
      "Note: you may need to restart the kernel to use updated packages.\n"
     ]
    },
    {
     "name": "stderr",
     "output_type": "stream",
     "text": [
      "WARNING: Retrying (Retry(total=4, connect=None, read=None, redirect=None, status=None)) after connection broken by 'ProxyError('Cannot connect to proxy.', NewConnectionError('<pip._vendor.urllib3.connection.HTTPSConnection object at 0x000001CFEA49DE80>: Failed to establish a new connection: [WinError 10061] No connection could be made because the target machine actively refused it'))': /simple/scikit-learn/\n",
      "WARNING: Retrying (Retry(total=3, connect=None, read=None, redirect=None, status=None)) after connection broken by 'ProxyError('Cannot connect to proxy.', NewConnectionError('<pip._vendor.urllib3.connection.HTTPSConnection object at 0x000001CFEA49C4D0>: Failed to establish a new connection: [WinError 10061] No connection could be made because the target machine actively refused it'))': /simple/scikit-learn/\n",
      "WARNING: Retrying (Retry(total=2, connect=None, read=None, redirect=None, status=None)) after connection broken by 'ProxyError('Cannot connect to proxy.', NewConnectionError('<pip._vendor.urllib3.connection.HTTPSConnection object at 0x000001CFEA493F20>: Failed to establish a new connection: [WinError 10061] No connection could be made because the target machine actively refused it'))': /simple/scikit-learn/\n",
      "WARNING: Retrying (Retry(total=1, connect=None, read=None, redirect=None, status=None)) after connection broken by 'ProxyError('Cannot connect to proxy.', NewConnectionError('<pip._vendor.urllib3.connection.HTTPSConnection object at 0x000001CFEA4933E0>: Failed to establish a new connection: [WinError 10061] No connection could be made because the target machine actively refused it'))': /simple/scikit-learn/\n",
      "WARNING: Retrying (Retry(total=0, connect=None, read=None, redirect=None, status=None)) after connection broken by 'ProxyError('Cannot connect to proxy.', NewConnectionError('<pip._vendor.urllib3.connection.HTTPSConnection object at 0x000001CFEA4AB080>: Failed to establish a new connection: [WinError 10061] No connection could be made because the target machine actively refused it'))': /simple/scikit-learn/\n"
     ]
    }
   ],
   "source": [
    "pip install --upgrade scikit-learn"
   ]
  },
  {
   "cell_type": "code",
   "execution_count": 49,
   "id": "8276132b-a2cc-4382-ad48-eb170b682d31",
   "metadata": {},
   "outputs": [
    {
     "data": {
      "text/plain": [
       "'love'"
      ]
     },
     "execution_count": 49,
     "metadata": {},
     "output_type": "execute_result"
    }
   ],
   "source": [
    "ps.stem('loving')"
   ]
  },
  {
   "cell_type": "code",
   "execution_count": 36,
   "id": "ffc34124-3a0d-4b85-9e13-78cc42fa075e",
   "metadata": {},
   "outputs": [
    {
     "data": {
      "text/plain": [
       "'second befor the earth is demolish to make way for a galact freeway, arthur dent is pluck off the planet by hi friend ford prefect, a research for the revis edit of the hitchhiker\\' guid to the galaxi who, for the last fifteen years, ha been pose as an out-of-work actor.togeth thi dynam pair begin a journey through space aid by quot from the hitchhiker\\' guid (\"a towel is about the most massiv use thing an interstellar hitchhik can have\") and a galaxy-ful of fellow travelers: zaphod beeblebrox—th two-headed, three-arm ex-hippi and total out-to-lunch presid of the galaxy; trillian, zaphod\\' girlfriend (formal tricia mcmillan), whom arthur tri to pick up at a cocktail parti onc upon a time zone; marvin, a paranoid, brilliant, and chronic depress robot; veet voojagig, a former graduat student who is obsess with the disappear of all the ballpoint pen he bought over the years.dougla adamsth hitchhiker\\' guid to the galaxi'"
      ]
     },
     "execution_count": 36,
     "metadata": {},
     "output_type": "execute_result"
    }
   ],
   "source": [
    "stem('seconds before the earth is demolished to make way for a galactic freeway, arthur dent is plucked off the planet by his friend ford prefect, a researcher for the revised edition of the hitchhiker\\'s guide to the galaxy who, for the last fifteen years, has been posing as an out-of-work actor.together this dynamic pair begin a journey through space aided by quotes from the hitchhiker\\'s guide (\"a towel is about the most massively useful thing an interstellar hitchhiker can have\") and a galaxy-full of fellow travelers: zaphod beeblebrox—the two-headed, three-armed ex-hippie and totally out-to-lunch president of the galaxy; trillian, zaphod\\'s girlfriend (formally tricia mcmillan), whom arthur tried to pick up at a cocktail party once upon a time zone; marvin, a paranoid, brilliant, and chronically depressed robot; veet voojagig, a former graduate student who is obsessed with the disappearance of all the ballpoint pens he bought over the years.douglas adamsthe hitchhiker\\'s guide to the galaxy')"
   ]
  },
  {
   "cell_type": "code",
   "execution_count": 37,
   "id": "61c48387-951e-45fc-b212-0e3001a12b36",
   "metadata": {},
   "outputs": [],
   "source": [
    "from sklearn.metrics.pairwise import cosine_similarity"
   ]
  },
  {
   "cell_type": "code",
   "execution_count": 38,
   "id": "9c0e93e8-9655-4af7-807e-f8179d9bf19f",
   "metadata": {},
   "outputs": [],
   "source": [
    "similarity = cosine_similarity(vector)"
   ]
  },
  {
   "cell_type": "code",
   "execution_count": 39,
   "id": "b71303de-edfc-44c5-ba98-6618ee46c866",
   "metadata": {},
   "outputs": [
    {
     "data": {
      "text/plain": [
       "array([1.        , 0.01981753, 0.08783787, ..., 0.046291  , 0.06099375,\n",
       "       0.08247861])"
      ]
     },
     "execution_count": 39,
     "metadata": {},
     "output_type": "execute_result"
    }
   ],
   "source": [
    "similarity[0]"
   ]
  },
  {
   "cell_type": "code",
   "execution_count": 40,
   "id": "d094c3c8-31b6-479b-b2fe-a8367a061c8b",
   "metadata": {},
   "outputs": [
    {
     "data": {
      "text/plain": [
       "[(13056, 0.30622360094038115),\n",
       " (3411, 0.2858630565057856),\n",
       " (16177, 0.2674702847616798),\n",
       " (140, 0.24990240093323157),\n",
       " (14538, 0.24770390755326446)]"
      ]
     },
     "execution_count": 40,
     "metadata": {},
     "output_type": "execute_result"
    }
   ],
   "source": [
    "sorted(list(enumerate(similarity[0])),reverse=True,key=lambda x:x[1])[1:6]"
   ]
  },
  {
   "cell_type": "code",
   "execution_count": 41,
   "id": "6bcb32cc-87b9-4ed8-94b2-23d12c80b68f",
   "metadata": {},
   "outputs": [],
   "source": [
    "def recommend(books):\n",
    "    books_index = new_df[new_df['title'] == books].index[0]\n",
    "    distances =  similarity[books_index]\n",
    "    books_list  = sorted(list(enumerate(similarity[0])),reverse=True,key=lambda x:x[1])[1:6]\n",
    "    for i in books_list:\n",
    "        print(new_df.iloc[i[0]].title)\n",
    "    \n",
    "        \n",
    "    "
   ]
  },
  {
   "cell_type": "code",
   "execution_count": 42,
   "id": "57b5df76-1919-4566-8547-bff7da830344",
   "metadata": {},
   "outputs": [
    {
     "name": "stdout",
     "output_type": "stream",
     "text": [
      "The Hunger Games Tribute Guide\n",
      "The Ballad of Songbirds and Snakes\n",
      "Guide to The Hunger Games\n",
      "Mockingjay\n",
      "Death\n"
     ]
    }
   ],
   "source": [
    "recommend('To Kill a Mockingbird')"
   ]
  },
  {
   "cell_type": "code",
   "execution_count": 43,
   "id": "989308e8-ff39-4b53-bb33-e7e7bbc01c61",
   "metadata": {},
   "outputs": [
    {
     "data": {
      "text/plain": [
       "2"
      ]
     },
     "execution_count": 43,
     "metadata": {},
     "output_type": "execute_result"
    }
   ],
   "source": [
    "new_df[new_df['title'] == 'To Kill a Mockingbird'].index[0]"
   ]
  },
  {
   "cell_type": "code",
   "execution_count": 44,
   "id": "fa18d258-fa9f-4d66-b6ef-9456a99e94c0",
   "metadata": {},
   "outputs": [
    {
     "data": {
      "text/plain": [
       "'Mockingjay'"
      ]
     },
     "execution_count": 44,
     "metadata": {},
     "output_type": "execute_result"
    }
   ],
   "source": [
    "new_df.iloc[140].title"
   ]
  },
  {
   "cell_type": "code",
   "execution_count": 45,
   "id": "6e50e721-9d4f-4a21-81c8-af89f85d090d",
   "metadata": {},
   "outputs": [],
   "source": [
    "import pickle"
   ]
  },
  {
   "cell_type": "code",
   "execution_count": 46,
   "id": "ae787a4b-1c02-4aed-840b-4ddba2596a39",
   "metadata": {},
   "outputs": [],
   "source": [
    "pickle.dump(new_df,open('books_list.pkl','wb'))"
   ]
  },
  {
   "cell_type": "code",
   "execution_count": 47,
   "id": "d3f3c4e9-3472-4383-bcf0-378c48909799",
   "metadata": {},
   "outputs": [],
   "source": [
    "pickle.dump(new_df.to_dict(),open('books_dict.pkl','wb'))"
   ]
  },
  {
   "cell_type": "code",
   "execution_count": 48,
   "id": "f09633e8-be84-4401-9151-1cfbec45fce8",
   "metadata": {},
   "outputs": [],
   "source": [
    "pickle.dump(similarity,open('similarity.pkl','wb'))"
   ]
  },
  {
   "cell_type": "code",
   "execution_count": null,
   "id": "8d898138-9283-461c-ac81-054d497afa19",
   "metadata": {},
   "outputs": [],
   "source": []
  }
 ],
 "metadata": {
  "kernelspec": {
   "display_name": "Python 3 (ipykernel)",
   "language": "python",
   "name": "python3"
  },
  "language_info": {
   "codemirror_mode": {
    "name": "ipython",
    "version": 3
   },
   "file_extension": ".py",
   "mimetype": "text/x-python",
   "name": "python",
   "nbconvert_exporter": "python",
   "pygments_lexer": "ipython3",
   "version": "3.12.7"
  }
 },
 "nbformat": 4,
 "nbformat_minor": 5
}
